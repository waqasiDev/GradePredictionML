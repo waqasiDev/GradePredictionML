{
 "cells": [
  {
   "cell_type": "code",
   "execution_count": 7,
   "id": "211423e1",
   "metadata": {},
   "outputs": [
    {
     "name": "stdout",
     "output_type": "stream",
     "text": [
      "✅ Saved predicted_grades_percent_scaled.csv\n"
     ]
    },
    {
     "data": {
      "image/png": "[encoded data removed]",
      "text/plain": [
       "<Figure size 600x400 with 1 Axes>"
      ]
     },
     "metadata": {},
     "output_type": "display_data"
    }
   ],
   "source": [
    "# 📦 Imports\n",
    "import pandas as pd\n",
    "import numpy as np\n",
    "import matplotlib.pyplot as plt\n",
    "import seaborn as sns\n",
    "\n",
    "from sklearn.model_selection import train_test_split\n",
    "from sklearn.impute import SimpleImputer\n",
    "from xgboost import XGBRegressor\n",
    "\n",
    "# 📥 Load student-level feature dataset\n",
    "df = pd.read_csv(\"../data/processed/student_features_with_scores.csv\")  # Adjust path if needed\n",
    "\n",
    "# 🎯 Separate features and target\n",
    "X = df.drop(columns=[\"Student_Id\", \"Total Score\"])\n",
    "y = df[\"Total Score\"]\n",
    "\n",
    "# 🧼 Impute missing values\n",
    "imputer = SimpleImputer(strategy=\"mean\")\n",
    "X = pd.DataFrame(imputer.fit_transform(X), columns=X.columns)\n",
    "\n",
    "# ✂️ Split into train/test\n",
    "X_train, X_test, y_train, y_test = train_test_split(\n",
    "    X, y, test_size=0.2, random_state=42\n",
    ")\n",
    "\n",
    "# 🤖 Train XGBoost Model\n",
    "xgb_model = XGBRegressor(random_state=42, verbosity=0)\n",
    "xgb_model.fit(X_train, y_train)\n",
    "\n",
    "# 📈 Predict Scores\n",
    "y_pred_scores = xgb_model.predict(X_test)\n",
    "\n",
    "# 🧩 Step: Load original answer-level dataset to get max possible score per student\n",
    "original_df = pd.read_csv(\"../data/processed/updated_data_with_points.csv\") \n",
    "\n",
    "# Calculate possible score (sum of assigned points per student)\n",
    "possible_scores = original_df.groupby(\"Student_Id\")[\"Assigned Points\"].sum().reset_index()\n",
    "possible_scores.columns = [\"Student_Id\", \"Possible Score\"]\n",
    "\n",
    "# Match Student_IDs to test set\n",
    "student_ids = df.loc[X_test.index, \"Student_Id\"].reset_index(drop=True)\n",
    "results_df = pd.DataFrame({\n",
    "    \"Student_Id\": student_ids,\n",
    "    \"Predicted Score\": y_pred_scores\n",
    "})\n",
    "\n",
    "# Merge with possible score\n",
    "results_df = results_df.merge(possible_scores, on=\"Student_Id\")\n",
    "\n",
    "# Calculate percent score\n",
    "results_df[\"Percent Score\"] = (results_df[\"Predicted Score\"] / results_df[\"Possible Score\"]) * 100\n",
    "\n",
    "# 🎓 Define grade mapping by percent\n",
    "def score_to_grade(percent):\n",
    "    if percent >= 85:\n",
    "        return 'A'\n",
    "    elif percent >= 70:\n",
    "        return 'B'\n",
    "    elif percent >= 55:\n",
    "        return 'C'\n",
    "    elif percent >= 40:\n",
    "        return 'D'\n",
    "    else:\n",
    "        return 'F'\n",
    "\n",
    "# Apply grade mapping\n",
    "results_df[\"Predicted Grade\"] = results_df[\"Percent Score\"].apply(score_to_grade)\n",
    "\n",
    "# 💾 Save to CSV\n",
    "results_df.to_csv(\"predicted_grades_percent_scaled.csv\", index=False)\n",
    "print(\"✅ Saved predicted_grades_percent_scaled.csv\")\n",
    "\n",
    "# 📊 Plot grade distribution\n",
    "plt.figure(figsize=(6, 4))\n",
    "sns.countplot(data=results_df, x=\"Predicted Grade\", order=[\"A\", \"B\", \"C\", \"D\", \"F\"])\n",
    "plt.title(\"Distribution of Predicted Grades (Percent-Based)\")\n",
    "plt.xlabel(\"Grade\")\n",
    "plt.ylabel(\"Number of Students\")\n",
    "plt.tight_layout()\n",
    "plt.show()\n"
   ]
  },
  {
   "cell_type": "code",
   "execution_count": null,
   "id": "0080fb55-970e-4153-8e6c-78e3b9ae275e",
   "metadata": {},
   "outputs": [],
   "source": []
  }
 ],
 "metadata": {
  "kernelspec": {
   "display_name": ".venv",
   "language": "python",
   "name": "python3"
  },
  "language_info": {
   "codemirror_mode": {
    "name": "ipython",
    "version": 3
   },
   "file_extension": ".py",
   "mimetype": "text/x-python",
   "name": "python",
   "nbconvert_exporter": "python",
   "pygments_lexer": "ipython3",
   "version": "3.12.3"
  }
 },
 "nbformat": 4,
 "nbformat_minor": 5
}
