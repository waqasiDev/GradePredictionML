{
 "cells": [
  {
   "cell_type": "code",
   "execution_count": 3,
   "id": "e8a71bd8-9a7a-47db-9c85-6afcaca27c46",
   "metadata": {},
   "outputs": [],
   "source": [
    "import pandas as pd\n",
    "from sklearn.impute import SimpleImputer\n",
    "\n",
    "# Load your prepared dataset\n",
    "df = pd.read_csv(\"../data/processed/student_features_with_scores.csv\")  # or the correct path\n",
    "\n",
    "# Define target (y) and features (X)\n",
    "y = df[\"Total Score\"]\n",
    "X = df.drop(columns=[\"Student_Id\", \"Total Score\"])\n",
    "\n",
    "# Impute missing values (if needed)\n",
    "imputer = SimpleImputer(strategy=\"mean\")\n",
    "X = pd.DataFrame(imputer.fit_transform(X), columns=X.columns)\n"
   ]
  },
  {
   "cell_type": "code",
   "execution_count": 4,
   "id": "506d5ca8-16ad-49e1-a41d-c74315da900c",
   "metadata": {},
   "outputs": [
    {
     "name": "stdout",
     "output_type": "stream",
     "text": [
      "Linear Regression CV R² Scores: [0.90550333 0.94580228 0.96923993 0.96355805 0.98775506]\n",
      "Linear Regression Mean R²: 0.9543717304360773\n",
      "XGBoost CV R² Scores: [0.9405037  0.98493923 0.99353097 0.99273118 0.99601251]\n",
      "XGBoost Mean R²: 0.9815435170339774\n"
     ]
    }
   ],
   "source": [
    "from sklearn.model_selection import cross_val_score\n",
    "from sklearn.linear_model import LinearRegression\n",
    "from xgboost import XGBRegressor\n",
    "import numpy as np\n",
    "\n",
    "# Reuse your imputed features and targets\n",
    "# X, y = already defined earlier\n",
    "\n",
    "# ⚖️ Linear Regression CV\n",
    "lr = LinearRegression()\n",
    "lr_r2_scores = cross_val_score(lr, X, y, cv=5, scoring='r2')\n",
    "print(\"Linear Regression CV R² Scores:\", lr_r2_scores)\n",
    "print(\"Linear Regression Mean R²:\", np.mean(lr_r2_scores))\n",
    "\n",
    "# ⚙️ XGBoost CV\n",
    "xgb = XGBRegressor(random_state=42, verbosity=0)\n",
    "xgb_r2_scores = cross_val_score(xgb, X, y, cv=5, scoring='r2')\n",
    "print(\"XGBoost CV R² Scores:\", xgb_r2_scores)\n",
    "print(\"XGBoost Mean R²:\", np.mean(xgb_r2_scores))\n"
   ]
  },
  {
   "cell_type": "code",
   "execution_count": null,
   "id": "3d1ec988-a31d-48f7-840e-34209163b48e",
   "metadata": {},
   "outputs": [],
   "source": []
  }
 ],
 "metadata": {
  "kernelspec": {
   "display_name": "Python 3 (ipykernel)",
   "language": "python",
   "name": "python3"
  },
  "language_info": {
   "codemirror_mode": {
    "name": "ipython",
    "version": 3
   },
   "file_extension": ".py",
   "mimetype": "text/x-python",
   "name": "python",
   "nbconvert_exporter": "python",
   "pygments_lexer": "ipython3",
   "version": "3.12.3"
  }
 },
 "nbformat": 4,
 "nbformat_minor": 5
}
