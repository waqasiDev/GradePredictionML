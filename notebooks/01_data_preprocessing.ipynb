{
 "cells": [
  {
   "cell_type": "code",
   "execution_count": 9,
   "id": "61b55ca4-45a5-4ea6-b153-97eb0b14f76c",
   "metadata": {},
   "outputs": [],
   "source": [
    "# Import necessary libraries\n",
    "import pandas as pd\n",
    "from sklearn.model_selection import train_test_split\n",
    "from sklearn.preprocessing import LabelEncoder\n",
    "from sklearn.impute import SimpleImputer"
   ]
  },
  {
   "cell_type": "code",
   "execution_count": 10,
   "id": "07f99d7d-8a6c-4a48-8725-66bc400f2ee1",
   "metadata": {},
   "outputs": [],
   "source": [
    "# Step 1: Load Data\n",
    "file_path = '../data/raw/exam_data.xlsx'"
   ]
  },
  {
   "cell_type": "code",
   "execution_count": 11,
   "id": "28108457-b056-49aa-8595-cac271801b42",
   "metadata": {},
   "outputs": [],
   "source": [
    "# Load the data from the Excel file\n",
    "data = pd.read_excel(file_path)"
   ]
  },
  {
   "cell_type": "code",
   "execution_count": 12,
   "id": "65ea8254-92e8-4159-be16-bf3f62e3ccec",
   "metadata": {},
   "outputs": [
    {
     "data": {
      "text/html": [
       "<div>\n",
       "<style scoped>\n",
       "    .dataframe tbody tr th:only-of-type {\n",
       "        vertical-align: middle;\n",
       "    }\n",
       "\n",
       "    .dataframe tbody tr th {\n",
       "        vertical-align: top;\n",
       "    }\n",
       "\n",
       "    .dataframe thead th {\n",
       "        text-align: right;\n",
       "    }\n",
       "</style>\n",
       "<table border=\"1\" class=\"dataframe\">\n",
       "  <thead>\n",
       "    <tr style=\"text-align: right;\">\n",
       "      <th></th>\n",
       "      <th>Student_Id</th>\n",
       "      <th>Question</th>\n",
       "      <th>Answer Choices</th>\n",
       "      <th>Answer</th>\n",
       "      <th>Points</th>\n",
       "    </tr>\n",
       "  </thead>\n",
       "  <tbody>\n",
       "    <tr>\n",
       "      <th>0</th>\n",
       "      <td>Candidate 333</td>\n",
       "      <td>Hvilke utsagn om while-løkker er SANNE? Velg e...</td>\n",
       "      <td>A) En while-løkke kan IKKE inneholde andre løk...</td>\n",
       "      <td>B) Vi KAN benytte logiske operatorer for å def...</td>\n",
       "      <td>NaN</td>\n",
       "    </tr>\n",
       "    <tr>\n",
       "      <th>1</th>\n",
       "      <td>Candidate 333</td>\n",
       "      <td>Hva er betydningen av __init__ -metoden i Pyth...</td>\n",
       "      <td>A) Det er en konstruktørmetode og blir alltid ...</td>\n",
       "      <td>A) Det er en konstruktørmetode og blir alltid ...</td>\n",
       "      <td>NaN</td>\n",
       "    </tr>\n",
       "    <tr>\n",
       "      <th>2</th>\n",
       "      <td>Candidate 333</td>\n",
       "      <td>Hva er hensikten med super()-metoden i Python?...</td>\n",
       "      <td>A) Konvertere heltall til en string.\\nB) Kalle...</td>\n",
       "      <td>B) Kalle på metoder som fins i foreldreklassen.</td>\n",
       "      <td>NaN</td>\n",
       "    </tr>\n",
       "    <tr>\n",
       "      <th>3</th>\n",
       "      <td>Candidate 333</td>\n",
       "      <td>Hva brukes continue til i Python? \\nVelg ett e...</td>\n",
       "      <td>A) Avslutte hele programmet.\\nB) Hoppe over re...</td>\n",
       "      <td>B) Hoppe over resten av koden i nåværende iter...</td>\n",
       "      <td>NaN</td>\n",
       "    </tr>\n",
       "    <tr>\n",
       "      <th>4</th>\n",
       "      <td>Candidate 333</td>\n",
       "      <td>Hva må vi sette inn i koden (rød strek på linj...</td>\n",
       "      <td>A) &lt;\\nB) ==\\nC) &gt;\\nD) !=</td>\n",
       "      <td>C) &gt;\\nD) !=</td>\n",
       "      <td>NaN</td>\n",
       "    </tr>\n",
       "  </tbody>\n",
       "</table>\n",
       "</div>"
      ],
      "text/plain": [
       "      Student_Id                                           Question  \\\n",
       "0  Candidate 333  Hvilke utsagn om while-løkker er SANNE? Velg e...   \n",
       "1  Candidate 333  Hva er betydningen av __init__ -metoden i Pyth...   \n",
       "2  Candidate 333  Hva er hensikten med super()-metoden i Python?...   \n",
       "3  Candidate 333  Hva brukes continue til i Python? \\nVelg ett e...   \n",
       "4  Candidate 333  Hva må vi sette inn i koden (rød strek på linj...   \n",
       "\n",
       "                                      Answer Choices  \\\n",
       "0  A) En while-løkke kan IKKE inneholde andre løk...   \n",
       "1  A) Det er en konstruktørmetode og blir alltid ...   \n",
       "2  A) Konvertere heltall til en string.\\nB) Kalle...   \n",
       "3  A) Avslutte hele programmet.\\nB) Hoppe over re...   \n",
       "4                           A) <\\nB) ==\\nC) >\\nD) !=   \n",
       "\n",
       "                                              Answer  Points   \n",
       "0  B) Vi KAN benytte logiske operatorer for å def...      NaN  \n",
       "1  A) Det er en konstruktørmetode og blir alltid ...      NaN  \n",
       "2    B) Kalle på metoder som fins i foreldreklassen.      NaN  \n",
       "3  B) Hoppe over resten av koden i nåværende iter...      NaN  \n",
       "4                                        C) >\\nD) !=      NaN  "
      ]
     },
     "execution_count": 12,
     "metadata": {},
     "output_type": "execute_result"
    }
   ],
   "source": [
    "# Check the first few rows of the dataset\n",
    "data.head()"
   ]
  },
  {
   "cell_type": "code",
   "execution_count": 13,
   "id": "c8994c18-c6ec-4e99-b7a3-58d6d7b6dcb9",
   "metadata": {},
   "outputs": [
    {
     "name": "stderr",
     "output_type": "stream",
     "text": [
      "/Users/waqasii/My Mac/Masters in Applied Conputer Science/Thesis/Code/GradePredictionML/.venv/lib/python3.12/site-packages/sklearn/impute/_base.py:635: UserWarning: Skipping features without any observed values: ['Points']. At least one non-missing value is needed for imputation with strategy='mean'.\n",
      "  warnings.warn(\n"
     ]
    }
   ],
   "source": [
    "# Step 2: Preprocess Data\n",
    "# Clean column names by stripping any leading/trailing spaces\n",
    "data.columns = data.columns.str.strip()\n",
    "\n",
    "# Handle missing values in 'Points' column by filling them with the mean\n",
    "points_imputer = SimpleImputer(strategy='mean')\n",
    "data['Points'] = points_imputer.fit_transform(data[['Points']])\n",
    "\n",
    "# Encode the 'Answer' column (correct answers) using LabelEncoder\n",
    "answer_encoder = LabelEncoder()\n",
    "data['Answer'] = answer_encoder.fit_transform(data['Answer'])\n",
    "\n",
    "# For 'Answer Choices', we'll remove newline characters and unnecessary spaces\n",
    "data['Answer Choices'] = data['Answer Choices'].str.replace('\\n', ' ', regex=False)\n",
    "data['Answer Choices'] = data['Answer Choices'].str.strip()"
   ]
  },
  {
   "cell_type": "code",
   "execution_count": 14,
   "id": "2903403b-06a1-4d64-89df-031e13ada951",
   "metadata": {},
   "outputs": [],
   "source": [
    "# Step 3: Split the data into features (X) and target (y)\n",
    "X = data[['Question', 'Answer Choices']]  # Features (you might want to include more features if available)\n",
    "y = data['Answer']  # Target (correct answers)"
   ]
  },
  {
   "cell_type": "code",
   "execution_count": 15,
   "id": "d4672c67-eecb-4889-9e80-d956d46b3b6f",
   "metadata": {},
   "outputs": [],
   "source": [
    "# Step 4: Split the data into training and test sets\n",
    "X_train, X_test, y_train, y_test = train_test_split(X, y, test_size=0.2, random_state=42)"
   ]
  },
  {
   "cell_type": "code",
   "execution_count": 16,
   "id": "4e4b2c43-f3a1-44fb-87fd-428fae255432",
   "metadata": {},
   "outputs": [
    {
     "name": "stdout",
     "output_type": "stream",
     "text": [
      "Training data shape: (231, 2)\n",
      "Test data shape: (58, 2)\n"
     ]
    }
   ],
   "source": [
    "# Step 5: Check the resulting data shapes\n",
    "print(f\"Training data shape: {X_train.shape}\")\n",
    "print(f\"Test data shape: {X_test.shape}\")"
   ]
  },
  {
   "cell_type": "markdown",
   "id": "dddd6ed7-20a6-4359-806c-a4a4787533b5",
   "metadata": {},
   "source": []
  }
 ],
 "metadata": {
  "kernelspec": {
   "display_name": ".venv",
   "language": "python",
   "name": "python3"
  },
  "language_info": {
   "codemirror_mode": {
    "name": "ipython",
    "version": 3
   },
   "file_extension": ".py",
   "mimetype": "text/x-python",
   "name": "python",
   "nbconvert_exporter": "python",
   "pygments_lexer": "ipython3",
   "version": "3.12.3"
  }
 },
 "nbformat": 4,
 "nbformat_minor": 5
}
